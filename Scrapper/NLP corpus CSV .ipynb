{
 "cells": [
  {
   "cell_type": "code",
   "execution_count": 12,
   "id": "fd1be4b3",
   "metadata": {},
   "outputs": [],
   "source": [
    "import csv\n",
    "import pandas as pd"
   ]
  },
  {
   "cell_type": "code",
   "execution_count": 13,
   "id": "5ef9243e",
   "metadata": {},
   "outputs": [
    {
     "name": "stdout",
     "output_type": "stream",
     "text": [
      "empty corpus CSV file \"Path_to_profession.location.csv\" with col_names created successfully.\n"
     ]
    }
   ],
   "source": [
    "output_corpus_csv_path = 'Path_to_profession.location.csv'\n",
    "col_names = ['Date','Pune','Bengalore','Hyderabad','Noida','Gurugram','Kolkata','Mumbai','Visakhapatnam']\n",
    "with open(output_corpus_csv_path,'w',newline='')as output_csv_file:\n",
    "    csv_writer = csv.writer(output_csv_file)\n",
    "    \n",
    "    csv_writer.writerow(col_names)\n",
    "print(f'empty corpus CSV file \"{output_corpus_csv_path}\" with col_names created successfully.')"
   ]
  },
  {
   "cell_type": "code",
   "execution_count": 21,
   "id": "af53d10c",
   "metadata": {},
   "outputs": [],
   "source": [
    "list_location = [\"Cloud Solutions Architect\",\"Software Architect\",\"Network Architect\",\"Software Applications Architect\",\"Data Architect\",\"Solutions Architect\",\"Computer and Information Research Scientist\",\"Data Scientist\",\"Development Operations Engineer\",\"IT Operations Manager\",\"Data Engineer\",\"Information Technology Manager\",\"Hardware Engineer\",\"Senior Web Developer\",\"Software Engineer\",\"Wireless RF Network Engineer\"]\n",
    "listL=[]\n",
    "for i in list_location:\n",
    "      for j in i:\n",
    "        if j==\" \":\n",
    "            i=i.replace(\" \",\"-\")\n",
    "            listL.append(i)\n",
    "myFinalList = pd.unique(listL).tolist()\n",
    "listL=myFinalList"
   ]
  },
  {
   "cell_type": "code",
   "execution_count": 22,
   "id": "af1250be",
   "metadata": {},
   "outputs": [
    {
     "data": {
      "text/plain": [
       "16"
      ]
     },
     "execution_count": 22,
     "metadata": {},
     "output_type": "execute_result"
    }
   ],
   "source": [
    "len(listL)"
   ]
  },
  {
   "cell_type": "code",
   "execution_count": 24,
   "id": "34c769e8",
   "metadata": {},
   "outputs": [
    {
     "name": "stdout",
     "output_type": "stream",
     "text": [
      "Data extracted from \"C:\\Users\\gupta\\OneDrive\\Desktop\\Path to Profession(NLP)\\alldata\\alldata\\Cloud-Solutions-Architect.csv\", counted, and saved in \"Path_to_profession.location.csv\" successfully.\n",
      "Data extracted from \"C:\\Users\\gupta\\OneDrive\\Desktop\\Path to Profession(NLP)\\alldata\\alldata\\Software-Architect.csv\", counted, and saved in \"Path_to_profession.location.csv\" successfully.\n",
      "Data extracted from \"C:\\Users\\gupta\\OneDrive\\Desktop\\Path to Profession(NLP)\\alldata\\alldata\\Network-Architect.csv\", counted, and saved in \"Path_to_profession.location.csv\" successfully.\n",
      "Data extracted from \"C:\\Users\\gupta\\OneDrive\\Desktop\\Path to Profession(NLP)\\alldata\\alldata\\Software-Applications-Architect.csv\", counted, and saved in \"Path_to_profession.location.csv\" successfully.\n",
      "Data extracted from \"C:\\Users\\gupta\\OneDrive\\Desktop\\Path to Profession(NLP)\\alldata\\alldata\\Data-Architect.csv\", counted, and saved in \"Path_to_profession.location.csv\" successfully.\n",
      "Data extracted from \"C:\\Users\\gupta\\OneDrive\\Desktop\\Path to Profession(NLP)\\alldata\\alldata\\Solutions-Architect.csv\", counted, and saved in \"Path_to_profession.location.csv\" successfully.\n",
      "Data extracted from \"C:\\Users\\gupta\\OneDrive\\Desktop\\Path to Profession(NLP)\\alldata\\alldata\\Computer-and-Information-Research-Scientist.csv\", counted, and saved in \"Path_to_profession.location.csv\" successfully.\n",
      "Data extracted from \"C:\\Users\\gupta\\OneDrive\\Desktop\\Path to Profession(NLP)\\alldata\\alldata\\Data-Scientist.csv\", counted, and saved in \"Path_to_profession.location.csv\" successfully.\n",
      "Data extracted from \"C:\\Users\\gupta\\OneDrive\\Desktop\\Path to Profession(NLP)\\alldata\\alldata\\Development-Operations-Engineer.csv\", counted, and saved in \"Path_to_profession.location.csv\" successfully.\n",
      "Data extracted from \"C:\\Users\\gupta\\OneDrive\\Desktop\\Path to Profession(NLP)\\alldata\\alldata\\IT-Operations-Manager.csv\", counted, and saved in \"Path_to_profession.location.csv\" successfully.\n",
      "Data extracted from \"C:\\Users\\gupta\\OneDrive\\Desktop\\Path to Profession(NLP)\\alldata\\alldata\\Data-Engineer.csv\", counted, and saved in \"Path_to_profession.location.csv\" successfully.\n",
      "Data extracted from \"C:\\Users\\gupta\\OneDrive\\Desktop\\Path to Profession(NLP)\\alldata\\alldata\\Information-Technology-Manager.csv\", counted, and saved in \"Path_to_profession.location.csv\" successfully.\n",
      "Data extracted from \"C:\\Users\\gupta\\OneDrive\\Desktop\\Path to Profession(NLP)\\alldata\\alldata\\Hardware-Engineer.csv\", counted, and saved in \"Path_to_profession.location.csv\" successfully.\n",
      "Data extracted from \"C:\\Users\\gupta\\OneDrive\\Desktop\\Path to Profession(NLP)\\alldata\\alldata\\Senior-Web-Developer.csv\", counted, and saved in \"Path_to_profession.location.csv\" successfully.\n",
      "Data extracted from \"C:\\Users\\gupta\\OneDrive\\Desktop\\Path to Profession(NLP)\\alldata\\alldata\\Software-Engineer.csv\", counted, and saved in \"Path_to_profession.location.csv\" successfully.\n",
      "Data extracted from \"C:\\Users\\gupta\\OneDrive\\Desktop\\Path to Profession(NLP)\\alldata\\alldata\\Wireless-RF-Network-Engineer.csv\", counted, and saved in \"Path_to_profession.location.csv\" successfully.\n"
     ]
    }
   ],
   "source": [
    "for i in range(0,16):\n",
    "    corpus_csv_path = 'Path_to_profession.location.csv'\n",
    "    existing_csv_path =\"C:\\\\Users\\\\gupta\\\\OneDrive\\\\Desktop\\\\Path to Profession(NLP)\\\\alldata\\\\alldata\\\\\"+listL[i]+\".csv\"\n",
    "    col_to_extract = 'Location'\n",
    "    location_counts = {}\n",
    "    with open(existing_csv_path, 'r', encoding='ISO-8859-1') as existing_csv_file:\n",
    "        csv_reader = csv.DictReader(existing_csv_file)\n",
    "        for row in csv_reader:\n",
    "            location = row[col_to_extract]\n",
    "            if location in location_counts:\n",
    "                location_counts[location] += 1\n",
    "            else:\n",
    "                location_counts[location] = 1\n",
    "    with open(corpus_csv_path, 'w', newline='', encoding='utf-32') as corpus_csv_file:\n",
    "        csv_writer = csv.writer(corpus_csv_file)\n",
    "\n",
    "        # Write a header row if needed\n",
    "        csv_writer.writerow(['City', 'City Count'])\n",
    "\n",
    "        # Write the location counts to the corpus CSV file\n",
    "        for location, count in location_counts.items():\n",
    "            csv_writer.writerow([location, count])\n",
    "\n",
    "    print(f'Data extracted from \"{existing_csv_path}\", counted, and saved in \"{corpus_csv_path}\" successfully.')"
   ]
  },
  {
   "cell_type": "code",
   "execution_count": 25,
   "id": "d2b0adbc",
   "metadata": {
    "scrolled": true
   },
   "outputs": [
    {
     "name": "stdout",
     "output_type": "stream",
     "text": [
      "['company', 'role', 'salary', 'experience', 'Location', 'description', 'skills', 'qualification', 'industry_type', 'Functional_area', 'Employment_type', 'Role_category']\n"
     ]
    }
   ],
   "source": [
    "existing_csv_path = \"C:\\\\Users\\\\gupta\\\\OneDrive\\\\Desktop\\\\Path to Profession(NLP)\\\\alldata\\\\alldata\\\\\"+listL[i]+\".csv\"\n",
    "col_to_extract = 'Location'\n",
    "with open(existing_csv_path, 'r',) as existing_csv_file:\n",
    "    csv_reader = csv.DictReader(existing_csv_file)\n",
    "    \n",
    "    # Print the header row to check column names\n",
    "    print(csv_reader.fieldnames) "
   ]
  }
 ],
 "metadata": {
  "kernelspec": {
   "display_name": "Python 3 (ipykernel)",
   "language": "python",
   "name": "python3"
  },
  "language_info": {
   "codemirror_mode": {
    "name": "ipython",
    "version": 3
   },
   "file_extension": ".py",
   "mimetype": "text/x-python",
   "name": "python",
   "nbconvert_exporter": "python",
   "pygments_lexer": "ipython3",
   "version": "3.9.7"
  }
 },
 "nbformat": 4,
 "nbformat_minor": 5
}
