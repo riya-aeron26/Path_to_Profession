{
 "cells": [
  {
   "cell_type": "markdown",
   "id": "c7d8a1c2",
   "metadata": {},
   "source": [
    "# Data pipeline for our mobile application \"Path to Profession\""
   ]
  },
  {
   "cell_type": "markdown",
   "id": "d68643fa",
   "metadata": {},
   "source": [
    "### Selenium and BeautifulSoup work together like a team to collect and clean data from Naukri.com, making it easier to use for analysis and decision-making. They're like a dynamic duo for web data."
   ]
  },
  {
   "cell_type": "markdown",
   "id": "bce29e93",
   "metadata": {},
   "source": [
    "#### Initializing selenium "
   ]
  },
  {
   "cell_type": "code",
   "execution_count": 1,
   "id": "79a0b305",
   "metadata": {},
   "outputs": [
    {
     "name": "stderr",
     "output_type": "stream",
     "text": [
      "C:\\Users\\ASUS\\AppData\\Local\\Temp\\ipykernel_17952\\542939457.py:26: DeprecationWarning: executable_path has been deprecated, please pass in a Service object\n",
      "  driver = webdriver.Chrome(executable_path='chromedriver.exe')\n"
     ]
    }
   ],
   "source": [
    "from datetime import date\n",
    "# impoting requests module  to send HTTP requests using Python\n",
    "import requests\n",
    "from bs4 import BeautifulSoup\n",
    "import pandas as pd\n",
    "#re stands for regular expression which specifies a set of strings that matches it.\n",
    "import re\n",
    "import time\n",
    "#Display a Python object in all frontends. \n",
    "from IPython.display import clear_output\n",
    "#random module in Python defines a series of functions for generating or manipulating random integers. \n",
    "import random\n",
    "#most common exceptions in Selenium WebDriver, and it is thrown when an HTML element cannot be found.\n",
    "from selenium.common.exceptions import NoSuchElementException\n",
    "from selenium.webdriver.common.by import By\n",
    "from selenium import webdriver\n",
    "#ChromeOptions() for manipulating various properties of the Chrome driver\n",
    "options = webdriver.ChromeOptions()\n",
    "#to avoid the situation if the security code is outdated and in result users will not be allowed to access that website\n",
    "options.add_argument('--ignore-certificate-errors')\n",
    "#we added icognito to prevent the popping of login page\n",
    "options.add_argument('--incognito')\n",
    "#to browser open with UI\n",
    "options.add_argument('--headless')\n",
    "from webdriver_manager.chrome import ChromeDriverManager\n",
    "driver = webdriver.Chrome(executable_path='chromedriver.exe')"
   ]
  },
  {
   "cell_type": "markdown",
   "id": "95a1e069",
   "metadata": {},
   "source": [
    "Removing all the spaces from the string "
   ]
  },
  {
   "cell_type": "code",
   "execution_count": 69,
   "id": "74913c93",
   "metadata": {},
   "outputs": [],
   "source": [
    "list_jobs=[\"Cloud Solution Architect\",\"Software Architect\"]\n",
    "list1=[]\n",
    "today =str(date.today())\n",
    "for i in list_jobs:\n",
    "      for j in i:\n",
    "        if j==\" \":\n",
    "            i=i.replace(\" \",\"-\")\n",
    "            list1.append(i)\n",
    "myFinalList = pd.unique(list1).tolist()\n",
    "list1=myFinalList"
   ]
  },
  {
   "cell_type": "markdown",
   "id": "2a5ab51f",
   "metadata": {},
   "source": [
    "automating web search and scraping data from naukri .com"
   ]
  },
  {
   "cell_type": "code",
   "execution_count": 65,
   "id": "e99cf70d",
   "metadata": {},
   "outputs": [
    {
     "name": "stdout",
     "output_type": "stream",
     "text": [
      "20\n",
      "20\n",
      "Empty DataFrame\n",
      "Columns: [company, role, salary, experience, Location, description, skills, qualification, industry_type, Functional_area, Employment_type, Role_category]\n",
      "Index: []\n"
     ]
    }
   ],
   "source": [
    "linkstart=\"https://www.naukri.com/\"\n",
    "for x in range(0,2):\n",
    "    Link=[]\n",
    "    for page in range(0,1): #first two pages of the naukri.com search\n",
    "        driver.get(linkstart+list1[x]+\"-jobs-in-bangalore-\"+str(page))\n",
    "        soup=BeautifulSoup(driver.page_source, 'lxml')#returns html of the page\n",
    "        time.sleep(3)\n",
    "        container = driver.find_element(By.ID, 'listContainer')\n",
    "        anchors = container.find_elements(By.CLASS_NAME, 'title')\n",
    "        for anchor in anchors:\n",
    "            if anchor.get_attribute('href'):\n",
    "                Link.append(anchor.get_attribute('href'))\n",
    "    print(len(Link)) #total link\n",
    "    #these were all the columns we got from naukri.com and made empty list \n",
    "    salary=[]\n",
    "    experience=[]\n",
    "    Location=[]\n",
    "    description=[]\n",
    "    role=[]\n",
    "    industry_type=[]\n",
    "    qualification=[]\n",
    "    Functional_area=[]\n",
    "    Employment_type=[]\n",
    "    Role_category=[]\n",
    "    company=[]\n",
    "    skills=[]\n",
    "    for lin in range(len(Link)):\n",
    "        driver.get(Link[lin])\n",
    "        time.sleep(2)\n",
    "        soup=BeautifulSoup(driver.page_source, 'lxml') \n",
    "        if soup.find(attrs={'class':\"salary\"})==None: #to skip the error\n",
    "            continue\n",
    "        else:\n",
    "            experience.append(soup.find(attrs={'class':\"exp\"}).text)\n",
    "            salary.append(soup.find(attrs={'class':\"salary\"}).text)\n",
    "            Location.append(soup.find(attrs={'class':'loc'}).find('a').text)\n",
    "            description.append(soup.find(attrs={'class':\"job-desc\"}).text)\n",
    "            details=[]\n",
    "            for i in soup.find(attrs={'class':\"other-details\"}).findAll(attrs={'class':\"details\"}):\n",
    "                details.append(i.text)\n",
    "            role.append(details[0])\n",
    "            industry_type.append(details[1])\n",
    "            Functional_area.append(details[2])\n",
    "            Employment_type.append(details[3])\n",
    "            Role_category.append(details[4])\n",
    "            qual=[]\n",
    "            for i in soup.find(attrs={'class':\"education\"}).findAll(attrs={'class':'details'}):\n",
    "                qual.append(i.text)\n",
    "            qualification.append(qual)\n",
    "            sk=[]\n",
    "            for i in soup.find(attrs={'class':\"key-skill\"}).findAll('a'):\n",
    "                sk.append(i.text)\n",
    "            skills.append(sk)\n",
    "            company.append(soup.find(attrs={'class':\"about-company\"}).find(attrs={'class':\"detail dang-inner-html\"}).text)\n",
    "    df=pd.DataFrame()\n",
    "    df['company']=company\n",
    "    df['role']=role\n",
    "    df['salary']=salary\n",
    "    df['experience']=experience\n",
    "    df['Location']=Location\n",
    "    df['description']=description\n",
    "    df['skills']=skills\n",
    "    df['qualification']=qualification\n",
    "    df['industry_type']=industry_type\n",
    "    df['Functional_area']=Functional_area\n",
    "    df['Employment_type']=Employment_type\n",
    "    df['Role_category']=Role_category\n",
    "    len(df)\n",
    "    df.head()\n",
    "    df.to_csv(list1[x]+'.csv',index=False)\n",
    "    Link.clear()\n",
    "print(df)                "
   ]
  },
  {
   "cell_type": "code",
   "execution_count": 2,
   "id": "fd52b818",
   "metadata": {},
   "outputs": [
    {
     "name": "stderr",
     "output_type": "stream",
     "text": [
      "C:\\Users\\ASUS\\AppData\\Local\\Temp\\ipykernel_17952\\2470972817.py:22: DeprecationWarning: executable_path has been deprecated, please pass in a Service object\n",
      "  tab = webdriver.Chrome(executable_path='chromedriver.exe')\n"
     ]
    },
    {
     "name": "stdout",
     "output_type": "stream",
     "text": [
      "Rte, BSW, MCAL Drives, AUTOSAR, Adc, Pwm, Dio, mcal, uml, Ecu, Rhapsody, Aspice, sdlc,\n",
      "Software Architecting, Jenkins, framework, GIT, data visualization, JIRA, MATLAB, Python, ASPICE,\n",
      "Linux, Python,\n",
      "Design, python, software development,\n",
      "Architecture, Agile development, Javascript, Software Architect, Scrum, Subject Matter Expert, Customer engagement, Advertising,\n",
      "Computer science, Front end, Enterprise applications, TDD, Agile, Healthcare, Product design, Test cases, cisco, Information technology,\n",
      "AUTOSAR, System architecture, Software design, UML, Staffing, Architectural design, Tool design, Software Architect, Hardware, Embedded software,\n",
      "Supply chain, Career development, Operations research, Mechatronics, Leadership development, Warehouse, Simulation, Agile, Industrial engineering, Python,\n",
      "Automotive Embedded Systems, linux, qnx, Embedded Development, Embedded Software Development, Embedded Software,\n",
      "Computer science, Automation, NoSQL, Web development, Javascript, Entity framework, MongoDB, Visual Studio, application architecture, CSS3,\n",
      "Embedded Software, UML, Aspice, Architecture, System Architecture,\n",
      "Prototype, Architecture, UML, Cloud, System integration, Instrumentation, AWS, MATLAB, Automotive, Python,\n",
      "Data modeling, Coding, Database design, Postgresql, Web development, Scrum, JIRA, Monitoring, SQL, CSS3,\n",
      "github, GIT, NoSQL, Analytical, Agile development, Javascript, Scrum, WCF, MVC, data visualization,\n",
      "github, GIT, NoSQL, Analytical, Agile development, Javascript, Scrum, WCF, MVC, data visualization,\n",
      "Performance tuning, TDD, Project management, Agile, Scrum, Unit testing, IT operations, Information technology, Monitoring, SQL,\n",
      "VMware, Linux, XML, Configuration management, Perl, Windows, IOS, SDLC, Android, Python,\n",
      "Unix, Computer science, Maven, Linux, Coding, Postgresql, Shell scripting, Debugging, Virtualization, SQL,\n",
      "Business improvement, Front end, Database design, Analytical, Cloud, Manager Technology, Software Architect, Deployment, Scheduling, private cloud,\n",
      "Business improvement, Front end, Database design, Analytical, Cloud, Manager Technology, Software Architect, Deployment, Scheduling, private cloud,\n"
     ]
    }
   ],
   "source": [
    "driver.get('https://www.naukri.com/software-architect-jobs-in-pune')\n",
    "time.sleep(3)\n",
    "data = {\n",
    "    \"experience\": [],\n",
    "    \"salary\": [],\n",
    "    \"location\":[],\n",
    "    \"Job_Description\": [],\n",
    "    \"Role\":[],\n",
    "    \"Industry_Type\": [],\n",
    "    \"Department\": [],\n",
    "    \"Employment_Type\": [],\n",
    "    \"Role_Category\": [],\n",
    "    \"Skills\": []\n",
    "}\n",
    "container = driver.find_element(By.ID, 'listContainer')\n",
    "wrappers = container.find_elements(By.CLASS_NAME, \"srp-jobtuple-wrapper\")\n",
    "for wrap in wrappers:\n",
    "    data['experience'].append(wrap.find_element(By.CLASS_NAME, \"exp\").text)\n",
    "    data['salary'].append(wrap.find_element(By.CLASS_NAME, \"sal\").text) \n",
    "    data['location'].append(wrap.find_element(By.CLASS_NAME, \"loc\").text)\n",
    "    link = wrap.find_element(By.CLASS_NAME, 'title').get_attribute('href')\n",
    "    tab = webdriver.Chrome(executable_path='chromedriver.exe')\n",
    "    tab.get(link)\n",
    "    time.sleep(2)\n",
    "    section = tab.find_elements(By.TAG_NAME, \"section\")\n",
    "    divisions = section[2].find_elements(By.XPATH, './div')\n",
    "    data['Job_Description'].append(divisions[0].text)\n",
    "    division2 = divisions[1].text.split('\\n')\n",
    "    \n",
    "    data['Role'].append(division2[0].split(\":\")[1])\n",
    "    data['Industry_Type'].append(division2[1].split(\":\")[1])\n",
    "    data['Employment_Type'].append(division2[2].split(\":\")[1])\n",
    "    data['Department'].append(division2[3].split(\":\")[1])\n",
    "    data['Role_Category'].append(division2[4].split(\":\")[1])\n",
    "    skills = divisions[3].find_elements(By.TAG_NAME, 'span')\n",
    "    skills2 = ''\n",
    "    for skill in skills:\n",
    "        skills2 += skill.text +', ' \n",
    "    data['Skills'].append(skills2.rstrip())\n",
    "    print(skills2.rstrip())\n",
    "    tab.close()    "
   ]
  },
  {
   "cell_type": "code",
   "execution_count": 7,
   "id": "d01f3571",
   "metadata": {},
   "outputs": [],
   "source": [
    "df = pd.DataFrame(data)\n",
    "df.to_csv(\"xyz.csv\")"
   ]
  },
  {
   "cell_type": "code",
   "execution_count": 159,
   "id": "c42b702f",
   "metadata": {},
   "outputs": [
    {
     "data": {
      "text/plain": [
       "{'experience': ['8-12 Yrs', '8-10 Yrs', '9-14 Yrs', '8-12 Yrs', '10-14 Yrs'],\n",
       " 'salary': ['15-25 Lacs PA',\n",
       "  'Not disclosed',\n",
       "  'Not disclosed',\n",
       "  'Not disclosed',\n",
       "  'Not disclosed'],\n",
       " 'location': ['Hybrid - Pune',\n",
       "  'Pune, Maharashtra',\n",
       "  'Hybrid - Pune',\n",
       "  'Pune',\n",
       "  'Pune'],\n",
       " 'Job_Description': ['Hello,\\n\\nAs part of our new growth strategy at BHTC India, we are looking to increase our internal Application and Project Team.\\nWe are looking for experienced who have hands on experience AUTOSAR architecture and concepts - BSW, RTE and SWC.\\nExperience on MCAL drivers(DIO/ADC/I2C/EEPROM/PWM/CAN/LIN etc.),System level knowledge\\nASPICE experience, Automotive SDLC experience, Knowledge of Rhapsody and UML will be an added advantage.\\nThe position would be based at MIDC, Bhosari Pune.\\nSome of the benefits include - 10 days work from home per month\\nFree access to LinkedIn Learning\\nCanteen Facility that takes care of breakfast, lunch and snacks\\nWorkshops like customer engagement, German Literacy Program, First time managers, Advanced Excel, Finance for Non-Finance etc.\\n\\nIf interested, please share your profile on kiran.shende@bhtc.com or\\nPhone: 9325349356',\n",
       "  'In the role of Software Architect, the individual will be the overall responsible for leading and guiding software product development (test framework solutions) programs from the technical standpoint.\\nYou will be responsible for understanding complex development team requirements and decomposing them into functional, system, and detailed software requirements and drafting architecture.\\nYou will ensure compliance to established development processes and suggest improvements, bring in the best of the industry practices to define robust development strategy, tools and deploy the same across the organization.\\nYou will also be responsible to ensure supplier compliance to same level of standards as JLR follow.\\nThe Software Architect shall work closely with several stakeholders to ensure that the teams contribute to overall objective: that is to ensure the system engineering is achieving the robustness of the electronic modules by preventing defects.\\nYou will be an integral part of shaping JLRs vehicle validation programs. In this role, you will oversee test strategy in the India region to the mission of delivering most innovative software solutions.\\nYou will be part of the team that drive product strategy and collaborate closely with engineering development and cross-functional teams to define and deliver on the next vehicle programs.\\nYou are expected to be expert in software product architectures and drive teams in designing scalable architectures to support data-intensive applications And strong in development techniques in areas of data mining, data processing, data modelling and data visualization.\\nSoftware Architect role demands dynamic individual who can adapt to constantly changing environment, executing and successfully delivering in time constrained embedded automotive software intensive programs.\\nWorking closely with numerous cross functional teams, partners and supplier groups is key.\\nYou are expected to know latest software development technologies, tools and trends - especially in terms of product development and automation. Thus, quickly learning and grasping nuances of technologies is essential.\\nKey responsibilities of the role will include:\\nUnderstand complex user requirements and decompose them into functional, system, and detailed software requirements and architecture\\nExperience in designing scalable architectures to support a data-intensive application.\\nExcellent verbal and written skills.\\nExperienced in using high-level architectural patterns and low-level design patterns to solve software problems\\nUnderstands and has experience with service-oriented architecture.\\nThe ability to explain sophisticated architectures to engineers, product managers, and support & operation executives (eg. via different UML Diagrams).\\nShould have hands on experience in using design modelling tools such as Enterprise Architect, Rhapsody etc.,\\nExperience in data mining, data processing, data modelling and data visualization using Matplotlib, Bokeh, Plotly package, Hands-on in advanced python packages like NumPy, SciPy for various sophisticated numerical and scientific calculations, Experience in Continuous integration and deployment (CI/CD) with tools such as Jenkins, GIT, JIRA, etc.\\nProfessional experience in building Reports, Dashboards and Scorecards, prior experience with Agile process and Algorithm and structures development, MATLAB Simulink, SE- ,DM, Simulation data mgmt. (Good to have) and Knowledge of different types ofAPIs with their differences.\\nYou are expected to write a proposal for your idea/solutions and take feedback from the team.\\nEqual importance to planning, coding, code reviews, documentation, and testing.\\nHighly motivated and coming up with fresh ideas and perspectives to help us move towards our goals faster.\\nMentoring junior software developers on design patterns, development best practices and CI/CD etc.,\\nMain Responsibilities:\\nCoordinate with different teams and guide from the technical standpoint\\nReview requirements, product architecture, code and delivery/deployment strategy\\nAnalyse and propose best development, integration and validation approaches\\nSign off of automation solutions and validation framework applications\\nImprove the overall quality of the SW deliverables by setting up efficient CI/CD pipelines\\nKey Performance Indicators: List the key performance indicators against which the person will be measured. These should cascade from the department / team performance indicators and should include units of measurement if possible but not targets\\nEfficient CI/CD Pipeline\\nDoD Standards/ Code metrics\\nEfficient high-level and low-level design documentations of the product\\nSolution scalability\\nCustomer acceptance and feedback\\nKey Interactions:\\nAutomation Framework Developers, Junior Developers, Suppliers and Partners, Domain and Group Leads\\n\\nKnowledge of Agile framework\\nA minimum of 8 years of experience in Software product development and validation (Python & test frameworks solutions for embedded based solutions).\\n\\nHas a good know how of the coding standards and know how to write clean, easy and maintainable code.\\nHas a product mindset and is willing to take strong decisions to allow his/her team to clean/refactor codebase (if the situation would arise) and explain the business benefits to the management from the same\\nAbility to build robust technical solutions and work in close partnership with product, architecture and business leadership to achieve optimum degree of integration and operational synergy\\nDesign, Development and deployment of scalable automation tools and software solutions\\nGood understanding of object-oriented design patterns and hands on programming experience in CPP/Python/Java\\nStrong knowledge of Computer Science fundamentals in object-oriented design, operating systems, data structures, algorithm design, problem-solving, complexity analysis, databases, networking, and distributed systems.\\nDefining, ensuring and balancing the quality of the code base by looking at potential tradeoffs amongst metrics such as scalability, maintainability, reusability, flexibility, performance, security and backwards compatibility.\\nSegregate between functional and non-functional requirements of the product by pro-actively communicating with the stakeholders.\\nFunctional knowledge of product development and testing methodologies in web-services, micro-services, Cloud-technologies, CI/CD..., etc.\\nA thorough understanding of quality engineering methodologies and tools\\nA thorough understanding of the S/W development life cycle\\nBachelors degree in Electronics & Telecommunication, Computer Science and Engineering OR Electrical\\nTrack record of challenging the status quo and driving continuous improvements to improve S/W quality, and time-to-market\\nA proven record for recognising and developing talent within the organisation to help foster staff development and company loyalty\\nKnowledge of virtualisation\\nWorking in embedded systems and hardware in loop\\nDesign, Development and deployment on HIL based test setup using DSPACE, NI and similar tools and technologies\\nAbility to build robust technical solutions on HIL based testing and work in close partnership with product, architecture and business leadership to achieve optimum degree of integration and operational synergy\\nExperience of working in ASPICE accredited automotive S/W T1 or Services company\\n\\nGood knowledge of ISO-9001, ASPICE3.0, ISO26262 standards',\n",
       "  \"Job title: Software Architect\\n\\nYour role:\\n• Leading architectural and technical responsibility for SW platforms and Solutions\\n• Leading S/W and embedded engineers for design and development of S/W solutions\\n• Interface with stakeholders for requirements understanding, architecture clarifications etc. Author and review requirements and design documents\\n• Actively participate in project estimation, planning and risk management activities (Identify, mitigate, and escalate risks on time. Prevent issues from arising)\\n• Work closely with the System Architect / Product Architect to identify & answer important product/solution questions through prototypes or solutions\\n• Drive quality first, technical excellence and quality improvements across team. Ensure team has appropriate technical competencies. Introduce clear instructions with daily management, track progress & share reports\\n• Ensure compliance to the Quality Management System and regulatory requirements. Set up clear standards and procedures of technical development.\\n• Motivate team, work on team building, foster good communication between team members, create good atmosphere for constructive feedback\\n\\nYou're the right fit if: (4 x bullets max):\\n• 10-15 years of experience in software development covering aspects like Agile/SAFe development, de-risking with prototyping, cost/benefit analysis, automated testing and debugging skills, continuous iteration & development\\n• Strong knowledge of all phases of the SDLC, Data Structure and Algorithms\\n• Strong hands-on Python, JavaScript, Python WSGI Web Framework (Django, Flask etc.) and strong knowledge of Linux; strong abstraction, analytical and problem-solving skills\\n• Fluent with Microservices architecture\\n• Familiarity with IoT, Cloud Platform (Any of GCP, AWS, Azure etc.), Model Base Testing\\n• Nice to have knowledge of Embedded Systems\\n• Mentoring/guiding/hand-holding young engineers in team & helping them ramp-up well\\n• Technical mentorship, good communication & presentation skills, positive ?can do? attitude, ability to innovate and foster innovation\\n• Ability to take ownership of team goals and deliver with quality first and within timeline\\n• Fast learner. Ability to grasp key concepts quickly with minimal or no supervision.\\n• Ability to present and articulate ideas to key stakeholders and leadership team.\\n\\nAbout Philips\\nWe are a health technology company. We built our entire company around the belief that every human matters, and we won't stop until everybody everywhere has access to the quality healthcare that we all deserve. Do the work of your life to help the lives of others.\\n? Learn more about our business.\\n? Discover our rich and exciting history.\\n? Learn more about our purpose.\\nIf you?re interested in this role and have many, but not all, of the experiences needed, we encourage you to apply. You may still be the right candidate for this or other opportunities at Philips. Learn more about our commitment to diversity and inclusion here.\",\n",
       "  'Leading architectural and technical responsibility for SW platforms and Solutions\\nLeading S/W and embedded engineers for design and development of S/W solutions\\nInterface with stakeholders for requirements understanding, architecture clarifications etc Author and review requirements and design documents\\nActively participate in project estimation, planning and risk management activities (Identify, mitigate, and escalate risks on time. Prevent issues from arising)\\nWork closely with the System Architect / Product Architect to identify answer important product/solution questions through prototypes or solutions\\nDrive quality first, technical excellence and quality improvements across team. Ensure team has appropriate technical competencies. Introduce clear instructions with daily management, track progress share reports\\nEnsure compliance to the Quality Management System and regulatory requirements. Set up clear standards and procedures of technical development.\\nMotivate team, work on team building, foster good communication between team members, create good atmosphere for constructive feedback\\nYoure the right fit if: (4 x bullets max)\\n12 15 years of experience in software development covering aspects like Agile/SAFe development, de-risking with prototyping, cost/benefit analysis, automated testing and debugging skills, continuous iteration development\\nStrong knowledge of all phases of the SDLC, Data Structure and Algorithms\\nStrong hands-on Python, JavaScript, Python WSGI Web Framework (Django, Flask etc) and strong knowledge of Linux; strong abstraction, analytical and problem-solving skills\\nFluent with Microservices architecture\\nFamiliarity with IoT, Cloud Platform (Any of GCP, AWS, Azure etc), Model Base Testing\\nNice to have knowledge of Embedded Systems\\nMentoring/guiding/hand-holding young engineers in team helping them ramp-up well\\nTechnical mentorship, good communication presentation skills , positive can do attitude, ability to innovate and foster innovation\\nAbility to take ownership of team goals and deliver with quality first and within timeline\\nFast learner. Ability to grasp key concepts quickly with minimal or no supervision.\\nAbility to present and articulate ideas to key stakeholders and leadership team.',\n",
       "  \"Job title: Software Architect\\n\\nYour role:\\nLeading architectural and technical responsibility for SW platforms and Solutions\\nLeading S/W and embedded engineers for design and development of S/W solutions\\nInterface with stakeholders for requirements understanding, architecture clarifications etc. Author and review requirements and design documents\\nActively participate in project estimation, planning and risk management activities (Identify, mitigate, and escalate risks on time. Prevent issues from arising)\\nWork closely with the System Architect / Product Architect to identify & answer important product/solution questions through prototypes or solutions\\nDrive quality first, technical excellence and quality improvements across team. Ensure team has appropriate technical competencies. Introduce clear instructions with daily management, track progress & share reports\\nEnsure compliance to the Quality Management System and regulatory requirements. Set up clear standards and procedures of technical development.\\nMotivate team, work on team building, foster good communication between team members, create good atmosphere for constructive feedback\\n\\nYou're the right fit if: (4 x bullets max):\\n10-15 years of experience in software development covering aspects like Agile/SAFe development, de-risking with prototyping, cost/benefit analysis, automated testing and debugging skills, continuous iteration & development\\nStrong knowledge of all phases of the SDLC, Data Structure and Algorithms\\nStrong hands-on Python, JavaScript, Python WSGI Web Framework (Django, Flask etc.) and strong knowledge of Linux; strong abstraction, analytical and problem-solving skills\\nFluent with Microservices architecture\\nFamiliarity with IoT, Cloud Platform (Any of GCP, AWS, Azure etc.), Model Base Testing\\nNice to have knowledge of Embedded Systems\\nMentoring/guiding/hand-holding young engineers in team & helping them ramp-up well\\nTechnical mentorship, good communication & presentation skills, positive ?can do? attitude, ability to innovate and foster innovation\\nAbility to take ownership of team goals and deliver with quality first and within timeline\\nFast learner. Ability to grasp key concepts quickly with minimal or no supervision.\\nAbility to present and articulate ideas to key stakeholders and leadership team.\\n\\nAbout Philips\\nWe are a health technology company. We built our entire company around the belief that every human matters, and we won't stop until everybody everywhere has access to the quality healthcare that we all deserve. Do the work of your life to help the lives of others.\\nLearn more about our business.\\nDiscover our rich and exciting history.\\nLearn more about our purpose.\\n\\nIf you're interested in this role, please share the your updated CV and below details :\\n\\nExperience :\\nCurrent CTC:\\nExpected CTC:\\nAny offers in hand (Y/N) : \\nNotice Period:\"],\n",
       " 'Role': [' Other',\n",
       "  ' Technical Architect',\n",
       "  ' Technical Architect',\n",
       "  ' Software Development - Other'],\n",
       " 'Industry_Type': [' Industrial Automation',\n",
       "  ' Automobile',\n",
       "  ' Medical Devices & Equipment',\n",
       "  ' Medical Services / Hospital'],\n",
       " 'Department': [' Full Time, Permanent',\n",
       "  ' Full Time, Permanent',\n",
       "  ' Full Time, Permanent',\n",
       "  ' Full Time, Permanent'],\n",
       " 'Employment_Type': [' Other',\n",
       "  ' Engineering - Software & QA',\n",
       "  ' Engineering - Software & QA',\n",
       "  ' Engineering - Software & QA'],\n",
       " 'Role_Category': [' Other',\n",
       "  ' Software Development',\n",
       "  ' Software Development',\n",
       "  ' Software Development'],\n",
       " 'Skills': ['', '', 'Linux,Python,', '']}"
      ]
     },
     "execution_count": 159,
     "metadata": {},
     "output_type": "execute_result"
    }
   ],
   "source": [
    "data"
   ]
  },
  {
   "cell_type": "code",
   "execution_count": 163,
   "id": "cf3289c9",
   "metadata": {},
   "outputs": [],
   "source": [
    "driver.get(\"https://www.naukri.com/job-listings-software-architect-akal-information-systems-ltd-bangalore-bengaluru-10-to-14-years-210923909577?src=jobsearchDesk&sid=16953296606939337&xp=1&px=1\")\n"
   ]
  },
  {
   "cell_type": "code",
   "execution_count": 164,
   "id": "c7e45b3b",
   "metadata": {},
   "outputs": [],
   "source": [
    "section = driver.find_elements(By.TAG_NAME, \"section\")"
   ]
  },
  {
   "cell_type": "code",
   "execution_count": 165,
   "id": "e9e624a4",
   "metadata": {},
   "outputs": [],
   "source": [
    "divisions = section[2].find_elements(By.TAG_NAME, 'div')"
   ]
  },
  {
   "cell_type": "code",
   "execution_count": 154,
   "id": "39de3f57",
   "metadata": {},
   "outputs": [],
   "source": [
    "skills = divisions[12].find_elements(By.TAG_NAME, 'span')"
   ]
  },
  {
   "cell_type": "code",
   "execution_count": 171,
   "id": "214031d9",
   "metadata": {},
   "outputs": [],
   "source": [
    "division2 = section[2].find_elements(By.XPATH, './div')"
   ]
  },
  {
   "cell_type": "code",
   "execution_count": 180,
   "id": "e3cc703e",
   "metadata": {},
   "outputs": [],
   "source": [
    "skills = division2[3].find_elements(By.TAG_NAME, 'span')"
   ]
  },
  {
   "cell_type": "code",
   "execution_count": 181,
   "id": "6bc0c96f",
   "metadata": {},
   "outputs": [
    {
     "name": "stdout",
     "output_type": "stream",
     "text": [
      "Java\n",
      "Hibernate\n",
      "software development\n",
      "SOA\n",
      "Mule\n",
      "Software Architecture\n",
      "Java Architect\n",
      "software engineering methodologies\n",
      "Spring\n",
      "Microservices\n",
      "Data Structure\n",
      "Sdlc\n",
      "Architect\n",
      "Algorithms\n",
      "RMQ\n",
      "j2ee\n",
      "Agile\n",
      "Spring boot\n",
      "Aws\n"
     ]
    }
   ],
   "source": [
    "for skill in skills:\n",
    "    print(skill.text)"
   ]
  },
  {
   "cell_type": "code",
   "execution_count": null,
   "id": "8a157e9d",
   "metadata": {},
   "outputs": [],
   "source": []
  }
 ],
 "metadata": {
  "kernelspec": {
   "display_name": "Python 3 (ipykernel)",
   "language": "python",
   "name": "python3"
  },
  "language_info": {
   "codemirror_mode": {
    "name": "ipython",
    "version": 3
   },
   "file_extension": ".py",
   "mimetype": "text/x-python",
   "name": "python",
   "nbconvert_exporter": "python",
   "pygments_lexer": "ipython3",
   "version": "3.9.13"
  }
 },
 "nbformat": 4,
 "nbformat_minor": 5
}
