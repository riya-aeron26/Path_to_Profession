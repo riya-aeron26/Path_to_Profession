{
 "cells": [
  {
   "cell_type": "code",
   "execution_count": null,
   "id": "62a61c8e",
   "metadata": {},
   "outputs": [],
   "source": [
    "jobs=['Cloud Solution Architect','Computer and Information Research Scientist','Development Operations Engineer','Senior Web Developer','Software Engineer','Solutions Architect']"
   ]
  },
  {
   "cell_type": "code",
   "execution_count": null,
   "id": "126d9236",
   "metadata": {},
   "outputs": [],
   "source": [
    "import csv\n",
    "for i in range (0,6):\n",
    "    \n",
    "# Example corpus data (you can replace this with your actual corpus data)\n",
    "    corpus = []\n",
    "\n",
    "# Define the CSV file name\n",
    "    csv_filename = input(\"Enter the CSV file name: \")\n",
    "\n",
    "# Define the CSV header (column names)\n",
    "    csv_header = [\"job\", \"years_of_Experience\"]\n",
    "\n",
    "# Write the corpus data to the CSV file\n",
    "    with open(csv_filename, mode='w', newline='') as csv_file:\n",
    "        writer = csv.DictWriter(csv_file, fieldnames=csv_header)\n",
    "    \n",
    "    # Write the header row\n",
    "        writer.writeheader()\n",
    "    \n",
    "    # Write each row of corpus data\n",
    "        for row in corpus:\n",
    "            writer.writerow(row)\n",
    "\n",
    "print(f\"CSV file '{csv_filename}' has been created.\")\n"
   ]
  }
 ],
 "metadata": {
  "kernelspec": {
   "display_name": "Python 3 (ipykernel)",
   "language": "python",
   "name": "python3"
  },
  "language_info": {
   "codemirror_mode": {
    "name": "ipython",
    "version": 3
   },
   "file_extension": ".py",
   "mimetype": "text/x-python",
   "name": "python",
   "nbconvert_exporter": "python",
   "pygments_lexer": "ipython3",
   "version": "3.9.7"
  }
 },
 "nbformat": 4,
 "nbformat_minor": 5
}
